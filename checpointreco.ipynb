{
 "cells": [
  {
   "cell_type": "markdown",
   "id": "9b4d3368-4b3d-4a0e-a0c3-8d8e16fead17",
   "metadata": {},
   "source": [
    "1. installons les pakages necessaires"
   ]
  },
  {
   "cell_type": "code",
   "execution_count": 1,
   "id": "6f052a0e-3300-48be-9fd0-657eb7aa7f33",
   "metadata": {},
   "outputs": [],
   "source": [
    "import nltk\n",
    "import streamlit as st\n",
    "import speech_recognition as sr"
   ]
  },
  {
   "cell_type": "code",
   "execution_count": 2,
   "id": "893a97a0-10e7-48c2-a6d7-02f61edde7fe",
   "metadata": {},
   "outputs": [
    {
     "name": "stderr",
     "output_type": "stream",
     "text": [
      "[nltk_data] Downloading package punkt to\n",
      "[nltk_data]     C:\\Users\\toshiba\\AppData\\Roaming\\nltk_data...\n",
      "[nltk_data]   Package punkt is already up-to-date!\n",
      "[nltk_data] Downloading package averaged_perceptron_tagger to\n",
      "[nltk_data]     C:\\Users\\toshiba\\AppData\\Roaming\\nltk_data...\n",
      "[nltk_data]   Package averaged_perceptron_tagger is already up-to-\n",
      "[nltk_data]       date!\n"
     ]
    }
   ],
   "source": [
    "nltk.download('punkt')\n",
    "nltk.download('averaged_perceptron_tagger')\n",
    "from nltk.tokenize import word_tokenize, sent_tokenize\n",
    "from nltk.corpus import stopwords\n",
    "from nltk.stem import WordNetLemmatizer\n",
    "import string\n"
   ]
  },
  {
   "cell_type": "markdown",
   "id": "b46c94ac-c5dc-4265-b446-a2de950cc679",
   "metadata": {},
   "source": [
    "2. Chargeons et prétraitons les données :"
   ]
  },
  {
   "cell_type": "code",
   "execution_count": 3,
   "id": "2bf33491-ba6c-49cb-b2c6-00c682340279",
   "metadata": {},
   "outputs": [],
   "source": [
    "with open(r'C:\\Users\\toshiba\\Desktop\\datascience\\chatbox\\mobydick.txt', 'r',  encoding='utf-8') as f:\n",
    "        data = f.read().replace('\\n', ' ')"
   ]
  },
  {
   "cell_type": "code",
   "execution_count": 4,
   "id": "347b19a9-e730-4efc-a2cc-d447e28821ae",
   "metadata": {},
   "outputs": [],
   "source": [
    "sentences = sent_tokenize(data)"
   ]
  },
  {
   "cell_type": "code",
   "execution_count": 5,
   "id": "269d6592-7c72-450d-a81f-70ac60c39d54",
   "metadata": {},
   "outputs": [],
   "source": [
    "def preprocess(sentence):\n",
    "    \n",
    "    words = word_tokenize(sentence)\n",
    "    \n",
    "    words = [word.lower() for word in words if word.lower() not in stopwords.words('english') and word not in string.punctuation]\n",
    "    \n",
    "    lemmatizer = WordNetLemmatizer()\n",
    "    words = [lemmatizer.lemmatize(word) for word in words]\n",
    "    return words    "
   ]
  },
  {
   "cell_type": "code",
   "execution_count": 6,
   "id": "b5d5f118-c736-4685-8a7f-23c584e066fc",
   "metadata": {},
   "outputs": [],
   "source": [
    "corpus = [preprocess(sentence) for sentence in sentences]\n"
   ]
  },
  {
   "cell_type": "code",
   "execution_count": 7,
   "id": "60253771-e438-498a-87be-9bdb9ccadc67",
   "metadata": {},
   "outputs": [],
   "source": [
    "def get_most_relevant_sentence(query):\n",
    "    query = preprocess(query)\n",
    "    max_similarity = 0\n",
    "    most_relevant_sentence = \"\"\n",
    "    for sentence in corpus:\n",
    "        similarity = len(set(query).intersection(sentence)) / float(len(set(query).union(sentence)))\n",
    "        if similarity > max_similarity:\n",
    "            max_similarity = similarity\n",
    "            most_relevant_sentence = \" \".join(sentence)\n",
    "    return most_relevant_sentence"
   ]
  },
  {
   "cell_type": "markdown",
   "id": "bd1bc7cf-db61-471e-8a26-636eaeff7ac6",
   "metadata": {},
   "source": [
    "3 . Définir une fonction pour transcrire la parole en texte à l'aide de l'algorithme de \n",
    "reconnaissance vocale"
   ]
  },
  {
   "cell_type": "code",
   "execution_count": 7,
   "id": "928d1b47-e781-4c06-8359-23777246724e",
   "metadata": {},
   "outputs": [],
   "source": [
    "def transcribe_speech():\n",
    "    r = sr.Recognizer()\n",
    "    with sr.Microphone() as source:\n",
    "        st.info(\"Speak now...\")\n",
    "        audio_text = r.listen(source)\n",
    "        st.info(\"Transcribing...\")\n",
    "        try:\n",
    "            text = r.recognize_google(audio_text)\n",
    "            return text\n",
    "        except:\n",
    "            return \"Sorry, I did not get that.\""
   ]
  },
  {
   "cell_type": "markdown",
   "id": "9dd7053b-0f9d-4e7c-81a4-91a4a7a257ff",
   "metadata": {},
   "source": [
    "4 . Modifions la fonction pour qu' elle puisse prendre en compte les textes et les paroles"
   ]
  },
  {
   "cell_type": "code",
   "execution_count": 13,
   "id": "e6e05438-afe1-46b5-b719-8a775ceb69a3",
   "metadata": {},
   "outputs": [],
   "source": [
    "def chatbot(question):\n",
    "    quest  = input(\"la question est ecrite ou orale :\", )\n",
    "    if quest == \"ecrite\" :\n",
    "        most_relevant_sentence = get_most_relevant_sentence(question)\n",
    "        return most_relevant_sentence\n",
    "    else :\n",
    "        text = transcribe_speech()\n",
    "        \n",
    "                \n",
    "        "
   ]
  },
  {
   "cell_type": "code",
   "execution_count": null,
   "id": "f1f49f96-5e79-447c-b4da-7d7c51ede728",
   "metadata": {},
   "outputs": [],
   "source": [
    "def main():\n",
    "    st.title(\"Chatbot\")\n",
    "    st.write(\"Bonjour, merci de me donner un texte  ou un vocal.\")\n",
    "\n",
    "    question = st.radio(\"Ecrire ou Vocale: \", ('ecrite', 'vocal'))\n",
    "    if (question == 'ecrite'):\n",
    "        question = st.text_input(\"You:\")\n",
    "        if st.button(\"Ecrivez le texte :\"):\n",
    "            response = chatbot(question)\n",
    "            st.write(\"Chatbot: \" + response)\n",
    "    else :\n",
    "        if st.button(\"Commencez l' enregistrement :\"):\n",
    "            text = transcribe_speech()\n",
    "            st.write(\"Transcription: \", text)\n",
    "if __name__ == \"__main__\":\n",
    "    main()"
   ]
  }
 ],
 "metadata": {
  "kernelspec": {
   "display_name": "Python 3 (ipykernel)",
   "language": "python",
   "name": "python3"
  },
  "language_info": {
   "codemirror_mode": {
    "name": "ipython",
    "version": 3
   },
   "file_extension": ".py",
   "mimetype": "text/x-python",
   "name": "python",
   "nbconvert_exporter": "python",
   "pygments_lexer": "ipython3",
   "version": "3.10.9"
  }
 },
 "nbformat": 4,
 "nbformat_minor": 5
}
